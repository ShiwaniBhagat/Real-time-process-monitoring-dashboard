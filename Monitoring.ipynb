{
 "cells": [
  {
   "cell_type": "code",
   "execution_count": null,
   "metadata": {},
   "outputs": [],
   "source": [
    "import psutil\n",
    "import datetime\n",
    "import pandas as pd\n",
    "\n",
    "def get_cpu_usage():\n",
    "    \"\"\"Returns the current CPU usage percentage.\"\"\"\n",
    "    return psutil.cpu_percent(interval=1)\n",
    "\n",
    "def get_memory_usage():\n",
    "    \"\"\"Returns the current memory usage percentage.\"\"\"\n",
    "    return psutil.virtual_memory().percent\n",
    "\n",
    "def get_disk_usage():\n",
    "    \"\"\"Returns the current disk usage percentage.\"\"\"\n",
    "    return psutil.disk_usage('/').percent\n",
    "\n",
    "def get_process_list():\n",
    "    \"\"\"Returns a list of top 10 CPU-consuming processes.\"\"\"\n",
    "    processes = []\n",
    "    for proc in psutil.process_iter(attrs=['pid', 'name', 'cpu_percent', 'memory_percent']):\n",
    "        try:\n",
    "            processes.append(proc.info)\n",
    "        except (psutil.NoSuchProcess, psutil.AccessDenied, psutil.ZombieProcess):\n",
    "            continue\n",
    "    df = pd.DataFrame(processes)\n",
    "    if not df.empty:\n",
    "        df = df.nlargest(10, 'cpu_percent')  # Top 10 CPU consuming processes\n",
    "    return df.to_dict('records')\n",
    "\n",
    "def get_current_time():\n",
    "    \"\"\"Returns the current timestamp in HH:MM:SS format.\"\"\"\n",
    "    return datetime.datetime.now().strftime('%H:%M:%S')\n"
   ]
  }
 ],
 "metadata": {
  "language_info": {
   "name": "python"
  }
 },
 "nbformat": 4,
 "nbformat_minor": 2
}
